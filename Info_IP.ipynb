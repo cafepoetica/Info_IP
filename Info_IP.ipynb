{
 "cells": [
  {
   "cell_type": "markdown",
   "id": "c67db2f0",
   "metadata": {},
   "source": [
    "                                    ···Script para INFO de IP ···\n",
    "                                       Abraham Bravo Morales"
   ]
  },
  {
   "cell_type": "markdown",
   "id": "e365b439",
   "metadata": {},
   "source": [
    "#Requerimientos\n",
    "\n",
    "1.- Access token en https://ipinfo.io/\n",
    "\n",
    "2.- pip install ipinfo"
   ]
  },
  {
   "cell_type": "code",
   "execution_count": 18,
   "id": "223d68a2",
   "metadata": {},
   "outputs": [
    {
     "name": "stdout",
     "output_type": "stream",
     "text": [
      "Ciudad ------ Dublin\n",
      "Lat y Long ------ 53.3331,-6.2489\n",
      "Hostname ------ mail-oln040092064062.outbound.protection.outlook.com\n",
      "Hostname ------ Leinster\n"
     ]
    }
   ],
   "source": [
    "#Importamos la libreria\n",
    "import ipinfo\n",
    "\n",
    "#Creamos el acceso\n",
    "access_token = '' #Introduce tu access token\n",
    "handler = ipinfo.getHandler(access_token)\n",
    "ip_address = '40.92.64.62' #Introduce la ip\n",
    "details = handler.getDetails(ip_address)\n",
    "\n",
    "#Imprimimos la info de la ip\n",
    "print('Ciudad'+' ------ ' + details.city)\n",
    "print('Lat y Long'+' ------ ' +details.loc)\n",
    "print('Region'+' ------ ' +details.region)\n",
    "print('Hostname'+' ------ ' +details.hostname)\n",
    "\n",
    "#details.all(para toda la info en forma de diccionario)"
   ]
  },
  {
   "cell_type": "code",
   "execution_count": null,
   "id": "741e9ae0",
   "metadata": {},
   "outputs": [],
   "source": []
  }
 ],
 "metadata": {
  "kernelspec": {
   "display_name": "Python 3 (ipykernel)",
   "language": "python",
   "name": "python3"
  },
  "language_info": {
   "codemirror_mode": {
    "name": "ipython",
    "version": 3
   },
   "file_extension": ".py",
   "mimetype": "text/x-python",
   "name": "python",
   "nbconvert_exporter": "python",
   "pygments_lexer": "ipython3",
   "version": "3.8.8"
  }
 },
 "nbformat": 4,
 "nbformat_minor": 5
}
